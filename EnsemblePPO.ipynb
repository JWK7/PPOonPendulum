{
 "cells": [
  {
   "cell_type": "markdown",
   "id": "5c208156",
   "metadata": {},
   "source": [
    "# Final Project: Extension 1\n",
    "# Wooyoung Chung"
   ]
  },
  {
   "cell_type": "code",
   "execution_count": 13,
   "id": "2f55b093",
   "metadata": {
    "scrolled": true
   },
   "outputs": [],
   "source": [
    "import gym\n",
    "import a3_gym_env\n",
    "import sys\n",
    "\n",
    "import torch\n",
    "from torch.optim import Adam\n",
    "from torch.distributions.normal import Normal\n",
    "import torch.nn as nn\n",
    "import torch.nn.functional as F\n",
    "import numpy as np\n",
    "import numpy\n",
    "import matplotlib.pyplot as plt\n",
    "# sample hyperparameters\n",
    "batch_size = 10000\n",
    "epochs = 30\n",
    "learning_rate = 1e-2\n",
    "hidden_size = 8\n",
    "n_layers = 2\n",
    "clipEpsilon = 0.2"
   ]
  },
  {
   "cell_type": "code",
   "execution_count": 14,
   "id": "4c9ef870",
   "metadata": {
    "scrolled": true
   },
   "outputs": [],
   "source": [
    "class PendulumNN(nn.Module):\n",
    "    def __init__(self,input,output,activation=nn.Tanh):\n",
    "        super(PendulumNN,self).__init__()\n",
    "        self.fc1=nn.Linear(input,90)\n",
    "        self.fc2=nn.Linear(90,90)\n",
    "        self.fc3=nn.Linear(90,90)\n",
    "        self.fc4=nn.Linear(90,output)\n",
    "        self.act1 = activation\n",
    "        log_std = -0.5 * numpy.ones(output, dtype=numpy.float32)\n",
    "        self.log_std = torch.nn.Parameter(torch.as_tensor(log_std))\n",
    "\n",
    "    def forward(self,x):\n",
    "        x = F.relu(self.fc1(x))\n",
    "        x = F.relu(self.fc2(x))\n",
    "        x = F.relu(self.fc3(x))\n",
    "        x = self.fc4(x)\n",
    "        vout = torch.exp(self.log_std)\n",
    "        return x, vout"
   ]
  },
  {
   "cell_type": "code",
   "execution_count": 15,
   "id": "adde3ea6",
   "metadata": {
    "scrolled": true
   },
   "outputs": [],
   "source": [
    "class PPOModels():\n",
    "    def __init__(self,learningRate1,learningRate2):\n",
    "        self.Actor = PendulumNN(3, 1)\n",
    "        self.CriticA = PendulumNN(3,1)\n",
    "        self.CriticB = PendulumNN(3,1)\n",
    "        self.CriticC = PendulumNN(3,1)\n",
    "        self.CriticD = PendulumNN(3,1)\n",
    "        self.CriticE = PendulumNN(3,1)\n",
    "        self.optimActor = Adam(self.Actor.parameters(), lr=learningRate1)\n",
    "        self.optimCriticA = Adam(self.CriticA.parameters(), lr=learningRate2)\n",
    "        self.optimCriticB = Adam(self.CriticB.parameters(), lr=learningRate2)\n",
    "        self.optimCriticC = Adam(self.CriticC.parameters(), lr=learningRate2)\n",
    "        self.optimCriticD = Adam(self.CriticD.parameters(), lr=learningRate2)\n",
    "        self.optimCriticE = Adam(self.CriticE.parameters(), lr=learningRate2)\n",
    "\n",
    "    # def saveModels(self):\n",
    "    #     torch.save(self.Actor.state_dict(),\"ActorModel.pt\")\n",
    "    #     torch.save(self.Critic.state_dict(),\"CriticModel.pt\")\n",
    "    #     torch.save(self.optimActor.state_dict(),\"optimActor.pt\")\n",
    "    #     torch.save(self.optimCritic.state_dict(),\"optimCritic.pt\")"
   ]
  },
  {
   "cell_type": "code",
   "execution_count": 16,
   "id": "9b79692a",
   "metadata": {
    "scrolled": true
   },
   "outputs": [],
   "source": [
    "def RewardsToGo(rewards,discountFactor):\n",
    "    if len(rewards) == 1:\n",
    "        return rewards\n",
    "    RewardNext = RewardsToGo(rewards[1:],discountFactor)\n",
    "    return [rewards[0]+(1-discountFactor)*RewardNext[0]]+RewardNext"
   ]
  },
  {
   "cell_type": "code",
   "execution_count": 17,
   "id": "a8fe3839",
   "metadata": {
    "scrolled": true
   },
   "outputs": [],
   "source": [
    "def DoRollout(Models,rollout_size,episode_size):\n",
    "    obervations =[]\n",
    "    rewards = []\n",
    "    actions = []\n",
    "    logprobs = []\n",
    "    env=gym.make(\"Pendulum-v1-custom\")\n",
    "    for i in range(rollout_size):\n",
    "        episodeRewards = []\n",
    "        obs = env.reset()\n",
    "        for j in range(episode_size):\n",
    "            out_mean,out_variance   = Models.Actor(torch.as_tensor(obs))\n",
    "            out_action_distribution = Normal(out_mean, out_variance)\n",
    "            action                  = out_action_distribution.sample()\n",
    "            obervations.append(obs)\n",
    "            obs, reward, done, info = env.step(action.detach())\n",
    "            logprob = out_action_distribution.log_prob(action).detach()\n",
    "            episodeRewards.append(reward.tolist())\n",
    "            actions.append(action.numpy())\n",
    "            logprobs.append(logprob)\n",
    "        rewards.append(episodeRewards)\n",
    "    return torch.tensor(numpy.array(obervations)),rewards,torch.tensor(numpy.array(actions)),torch.tensor(logprobs)"
   ]
  },
  {
   "cell_type": "code",
   "execution_count": 18,
   "id": "eac02085",
   "metadata": {
    "scrolled": true
   },
   "outputs": [],
   "source": [
    "def getRatio(model,observations,actions,old_logprobs):\n",
    "    out_mean,out_variance = model.Actor(observations)\n",
    "    dist = Normal(out_mean, out_variance)\n",
    "    log_probs = dist.log_prob(actions).squeeze()\n",
    "    return torch.exp(log_probs-old_logprobs)"
   ]
  },
  {
   "cell_type": "code",
   "execution_count": 19,
   "id": "59f75c9d",
   "metadata": {
    "scrolled": true
   },
   "outputs": [],
   "source": [
    "def CalculateAdvantage(model,observations,RTG):\n",
    "    V1 = model.CriticA(observations)[0].detach().squeeze()\n",
    "    V2 = model.CriticB(observations)[0].detach().squeeze()\n",
    "    V3 = model.CriticC(observations)[0].detach().squeeze()\n",
    "    V4 = model.CriticD(observations)[0].detach().squeeze()\n",
    "    V5 = model.CriticE(observations)[0].detach().squeeze()\n",
    "    V = (V1+V2+V3+V4+V5)/5\n",
    "    Advantage = (torch.tensor(RTG)-V)\n",
    "    return Advantage\n",
    "\n",
    "def GeneralAdvantage(model,states,rewards,discountFactor):\n",
    "    if len(rewards)==1:\n",
    "        return torch.tensor(rewards[0])\n",
    "    delta = 1-discountFactor\n",
    "    Vt1 = model.CriticA(states[0])[0].detach().squeeze()\n",
    "    Vt2 = model.CriticB(states[0])[0].detach().squeeze()\n",
    "    Vt3 = model.CriticC(states[0])[0].detach().squeeze()\n",
    "    Vt4 = model.CriticD(states[0])[0].detach().squeeze()\n",
    "    Vt5 = model.CriticE(states[0])[0].detach().squeeze()\n",
    "    Vt = (Vt1+Vt2+Vt3+Vt4+Vt5)/5\n",
    "    VT1 = torch.pow(torch.tensor(delta),len(states)-1)*model.CriticA(states[-1])[0].detach().squeeze()\n",
    "    VT2 = torch.pow(torch.tensor(delta),len(states)-1)*model.CriticB(states[-1])[0].detach().squeeze()\n",
    "    VT3 = torch.pow(torch.tensor(delta),len(states)-1)*model.CriticC(states[-1])[0].detach().squeeze()\n",
    "    VT4 = torch.pow(torch.tensor(delta),len(states)-1)*model.CriticD(states[-1])[0].detach().squeeze()\n",
    "    VT5 = torch.pow(torch.tensor(delta),len(states)-1)*model.CriticE(states[-1])[0].detach().squeeze()\n",
    "    VT = (VT1+VT2+VT3+VT4+VT5)/5\n",
    "    RTG = RewardsToGo(rewards[:len(states)-1],discountFactor)[0]\n",
    "    return -Vt+RTG+VT\n",
    "\n",
    "def CalculateGeneralAdvantage(model, obervations,rewards,discountFactor):\n",
    "    GeneralAdv =[]\n",
    "    for i in range(len(rewards)):\n",
    "        obs = obervations[i*len(rewards[0]):(i+1)*len(rewards[0])]\n",
    "        for j in range(len(rewards[0])):\n",
    "            GeneralAdv.append(GeneralAdvantage(model,obs[j:],rewards[i][j:],discountFactor))\n",
    "    return torch.tensor(GeneralAdv)"
   ]
  },
  {
   "cell_type": "code",
   "execution_count": 20,
   "id": "18e5683b",
   "metadata": {
    "scrolled": true
   },
   "outputs": [],
   "source": [
    "def PPO(AdvantageType,UsingClip,batchSize,model,rollout=10,episodes =200,clipEpsilon=0.2,df = 0.01):\n",
    "    batch_size = batchSize\n",
    "    rollout_size = rollout\n",
    "    episode_size= episodes\n",
    "    epsilon= clipEpsilon\n",
    "    discountFactor = df\n",
    "    policy = model\n",
    "    rtg_list = []\n",
    "    actorGrad_loss_list = []\n",
    "    criticGrad_loss_list = []\n",
    "    iter_count = 1\n",
    "    \n",
    "    for i in range(batch_size):\n",
    "        observations,rewards,actions,logprobs = DoRollout(policy,rollout_size,episode_size)\n",
    "        RTG = []\n",
    "        for j in range(rollout_size):\n",
    "            RTG+=RewardsToGo(rewards[j],discountFactor) \n",
    "        if AdvantageType==\"RTG\":\n",
    "            Advantage = CalculateAdvantage(policy,observations,RTG)\n",
    "        elif AdvantageType==\"GAE\":\n",
    "            Advantage = CalculateGeneralAdvantage(policy,observations,rewards,discountFactor)\n",
    "        else:\n",
    "            return \"ERROR NO ADV TYPE SPECIFIED\"\n",
    "        iter_count += 1\n",
    "        rtg_list.append(sum(RTG)/rollout_size)\n",
    "\n",
    "        for j in range(15):\n",
    "            ratio = getRatio(policy,observations,actions,logprobs)\n",
    "            if UsingClip == 1:\n",
    "                reg =  Advantage*ratio\n",
    "                clip = torch.clip(ratio, 1 - epsilon, 1 + epsilon) * Advantage\n",
    "                actorGrad =(-torch.min(reg, clip)).mean()\n",
    "            else:\n",
    "                actorGrad = (-(Advantage*ratio)).mean()\n",
    "            policy.optimActor.zero_grad()\n",
    "            actorGrad.backward(retain_graph=True)\n",
    "            policy.optimActor.step()\n",
    "\n",
    "            V1 = policy.CriticA(observations)[0].squeeze()\n",
    "            V2 = policy.CriticB(observations)[0].squeeze()\n",
    "            V3 = policy.CriticC(observations)[0].squeeze()\n",
    "            V4 = policy.CriticD(observations)[0].squeeze()\n",
    "            V5 = policy.CriticE(observations)[0].squeeze()\n",
    "            criticGrad = nn.MSELoss()(V1, torch.tensor(RTG))\n",
    "            policy.optimCriticA.zero_grad()\n",
    "            criticGrad.backward()\n",
    "            policy.optimCriticA.step()\n",
    "            criticGrad = nn.MSELoss()(V2, torch.tensor(RTG))\n",
    "            policy.optimCriticB.zero_grad()\n",
    "            criticGrad.backward()\n",
    "            policy.optimCriticB.step()\n",
    "            criticGrad = nn.MSELoss()(V3, torch.tensor(RTG))\n",
    "            policy.optimCriticC.zero_grad()\n",
    "            criticGrad.backward()\n",
    "            policy.optimCriticC.step()\n",
    "            criticGrad = nn.MSELoss()(V4, torch.tensor(RTG))\n",
    "            policy.optimCriticD.zero_grad()\n",
    "            criticGrad.backward()\n",
    "            policy.optimCriticD.step()\n",
    "            criticGrad = nn.MSELoss()(V5, torch.tensor(RTG))\n",
    "            policy.optimCriticE.zero_grad()\n",
    "            criticGrad.backward()\n",
    "            policy.optimCriticE.step()\n",
    "            \n",
    "            if j ==14:\n",
    "                actorGrad_loss_list.append(actorGrad.item())\n",
    "                criticGrad_loss_list.append(criticGrad.item())\n",
    "    #     policy.saveModels() \n",
    "\n",
    "    # policy.saveModels()\n",
    "    print(\"Finished!\")\n",
    "    return policy, rtg_list, actorGrad_loss_list, criticGrad_loss_list, rewards"
   ]
  },
  {
   "cell_type": "code",
   "execution_count": 21,
   "id": "e622675b",
   "metadata": {
    "scrolled": true
   },
   "outputs": [],
   "source": [
    "def TryModel(model):\n",
    "    env=gym.make(\"Pendulum-v1-custom\")\n",
    "    obs = env.reset()\n",
    "#     rewards=[]\n",
    "#     # print(obs)\n",
    "#     minReward = -1000\n",
    "#     minobs = obs\n",
    "    # print(obs)\n",
    "    thetaLst = [np.arccos(obs[0])]\n",
    "    thetaDotLst = [obs[2]]\n",
    "    \n",
    "    for i in range(1000):\n",
    "        action,_ = model(torch.tensor(obs))\n",
    "        obs, reward, done, info = env.step(action.detach())\n",
    "        thetaLst.append(np.arccos(obs[0]))\n",
    "        thetaDotLst.append(obs[2])\n",
    "#         if reward > minReward:\n",
    "#             minReward=reward\n",
    "#             minobs = obs\n",
    "#         rewards.append(reward.tolist())\n",
    "    return thetaLst, thetaDotLst"
   ]
  },
  {
   "cell_type": "code",
   "execution_count": 22,
   "id": "ca5bab2a",
   "metadata": {
    "scrolled": true
   },
   "outputs": [],
   "source": [
    "def Environment(AdvantageType,Clip,batch_size,Rollout=10,episodes =200,clipEpsilon=0.2,df = 0.01,lr1=1e-2,lr2=1e-2):\n",
    "    Model = PPOModels(lr1,lr2)\n",
    "    return PPO(AdvantageType,Clip,batch_size,Model,Rollout,episodes,clipEpsilon,df)"
   ]
  },
  {
   "cell_type": "code",
   "execution_count": 23,
   "id": "54e7adee",
   "metadata": {},
   "outputs": [],
   "source": [
    "def visualize_matrix(model):\n",
    "    # save to a matrix\n",
    "    matrx = [] # will end up being a 100 by 100 matrix t\n",
    "    theta = -np.pi\n",
    "    thetaDot = 8\n",
    "    count = 0\n",
    "    for i in range(100):\n",
    "        tmp_matrix = []\n",
    "        theta = -np.pi\n",
    "        # after first iteration need to shift thetaDot down\n",
    "        if count > 0:\n",
    "            thetaDot = thetaDot - ((2*8)/100)\n",
    "        for j in range(100):\n",
    "            tmp_matrix.append(model.Critic(torch.tensor([np.float32(np.cos(theta)),np.float32(np.sin(theta)),thetaDot]))[0].item())\n",
    "            # shift theta to the right\n",
    "            theta = theta + ((2*np.pi)/100)\n",
    "        matrx.append(tmp_matrix)\n",
    "        count +=1\n",
    "\n",
    "    plt.imshow(matrx)\n",
    "    plt.colorbar()\n",
    "    plt.show()"
   ]
  },
  {
   "cell_type": "markdown",
   "id": "a46f220b",
   "metadata": {},
   "source": [
    "model, rtg_list, actorGrad_loss_list, criticGrad_loss_list, rewards = Environment(\"GAE\",1,400,10,200,0.2,0.05,0.0003,0.0003)"
   ]
  },
  {
   "cell_type": "code",
   "execution_count": 24,
   "id": "4231389e",
   "metadata": {},
   "outputs": [
    {
     "name": "stdout",
     "output_type": "stream",
     "text": [
      "Finished!\n"
     ]
    }
   ],
   "source": [
    "model, rtg_list, actorGrad_loss_list, criticGrad_loss_list, rewards = Environment(\"GAE\",1,400,10,200,0.2,0.05,0.0003,0.0003)"
   ]
  },
  {
   "cell_type": "code",
   "execution_count": 25,
   "id": "83fe3bf7",
   "metadata": {},
   "outputs": [
    {
     "data": {
      "image/png": "[encoded data removed]",
      "text/plain": [
       "<Figure size 432x288 with 1 Axes>"
      ]
     },
     "metadata": {
      "needs_background": "light"
     },
     "output_type": "display_data"
    },
    {
     "data": {
      "image/png": "[encoded data removed]",
      "text/plain": [
       "<Figure size 432x288 with 1 Axes>"
      ]
     },
     "metadata": {
      "needs_background": "light"
     },
     "output_type": "display_data"
    },
    {
     "data": {
      "image/png": "[encoded data removed]",
      "text/plain": [
       "<Figure size 432x288 with 1 Axes>"
      ]
     },
     "metadata": {
      "needs_background": "light"
     },
     "output_type": "display_data"
    }
   ],
   "source": [
    "# plot rtg_list\n",
    "plt.plot(rtg_list)\n",
    "plt.title(\"PPO (clipping, GAE)\")\n",
    "plt.xlabel(\"iteration\")\n",
    "plt.ylabel(\"Expected Acculumated Reward\")\n",
    "plt.show()\n",
    "# plot actorGrad_loss_list\n",
    "plt.plot(actorGrad_loss_list)\n",
    "plt.title(\"Actor Loss\")\n",
    "plt.xlabel(\"iteration\")\n",
    "plt.ylabel(\"Actor Loss\")\n",
    "plt.show()\n",
    "# plot criticGrad_loss_list\n",
    "plt.plot(criticGrad_loss_list)\n",
    "plt.title(\"Critic Loss\")\n",
    "plt.xlabel(\"iteration\")\n",
    "plt.ylabel(\"Critic Loss\")\n",
    "plt.show()"
   ]
  },
  {
   "cell_type": "code",
   "execution_count": 26,
   "id": "f22f1d0a",
   "metadata": {},
   "outputs": [
    {
     "data": {
      "image/png": "[encoded data removed]",
      "text/plain": [
       "<Figure size 432x288 with 1 Axes>"
      ]
     },
     "metadata": {
      "needs_background": "light"
     },
     "output_type": "display_data"
    }
   ],
   "source": [
    "plt.title(\"Theta vs Time\")\n",
    "plt.plot(TryModel(model.Actor)[0])\n",
    "plt.show()"
   ]
  },
  {
   "cell_type": "code",
   "execution_count": 27,
   "id": "0a5b5355",
   "metadata": {},
   "outputs": [
    {
     "data": {
      "image/png": "[encoded data removed]",
      "text/plain": [
       "<Figure size 432x288 with 1 Axes>"
      ]
     },
     "metadata": {
      "needs_background": "light"
     },
     "output_type": "display_data"
    }
   ],
   "source": [
    "plt.title(\"ThetaDot vs Time\")\n",
    "plt.plot(TryModel(model.Actor)[1])\n",
    "plt.show()"
   ]
  },
  {
   "cell_type": "markdown",
   "id": "502444a7",
   "metadata": {},
   "source": [
    "# Discussion\n",
    "In this work, we used an ensemble of critics in the PPO algorithm. From this, the learning was a lot more stable and successfully/efficiently learned the task."
   ]
  }
 ],
 "metadata": {
  "kernelspec": {
   "display_name": "Python 3 (ipykernel)",
   "language": "python",
   "name": "python3"
  },
  "language_info": {
   "codemirror_mode": {
    "name": "ipython",
    "version": 3
   },
   "file_extension": ".py",
   "mimetype": "text/x-python",
   "name": "python",
   "nbconvert_exporter": "python",
   "pygments_lexer": "ipython3",
   "version": "3.10.6"
  },
  "vscode": {
   "interpreter": {
    "hash": "b0fa6594d8f4cbf19f97940f81e996739fb7646882a419484c72d19e05852a7e"
   }
  }
 },
 "nbformat": 4,
 "nbformat_minor": 5
}
