{
 "cells": [
  {
   "attachments": {},
   "cell_type": "markdown",
   "id": "5c208156",
   "metadata": {},
   "source": [
    "# Final Project Extension 3\n",
    "# Wooyoung Chung"
   ]
  },
  {
   "cell_type": "code",
   "execution_count": 1,
   "id": "2f55b093",
   "metadata": {
    "scrolled": true
   },
   "outputs": [
    {
     "name": "stderr",
     "output_type": "stream",
     "text": [
      "\n",
      "/opt/homebrew/lib/python3.9/site-packages/torchvision/io/image.py:13: UserWarning: Failed to load image Python extension: dlopen(/opt/homebrew/lib/python3.9/site-packages/torchvision/image.so, 0x0006): Symbol not found: (__ZN2at4_ops19empty_memory_format4callEN3c108ArrayRefINS2_6SymIntEEENS2_8optionalINS2_10ScalarTypeEEENS6_INS2_6LayoutEEENS6_INS2_6DeviceEEENS6_IbEENS6_INS2_12MemoryFormatEEE)\n",
      "  Referenced from: '/opt/homebrew/lib/python3.9/site-packages/torchvision/image.so'\n",
      "  Expected in: '/opt/homebrew/lib/python3.9/site-packages/torch/lib/libtorch_cpu.dylib'\n",
      "  warn(f\"Failed to load image Python extension: {e}\")\n"
     ]
    }
   ],
   "source": [
    "import gym\n",
    "import a3_gym_env\n",
    "import sys\n",
    "import torchvision\n",
    "import torchvision.transforms as transforms\n",
    "import cv2\n",
    "import torch\n",
    "from torch.optim import Adam\n",
    "from torch.distributions.normal import Normal\n",
    "import torch.nn as nn\n",
    "import torch.nn.functional as F\n",
    "import numpy as np\n",
    "import numpy\n",
    "import matplotlib.pyplot as plt\n",
    "# sample hyperparameters\n",
    "batch_size = 10000\n",
    "epochs = 30\n",
    "learning_rate = 1e-2\n",
    "hidden_size = 8\n",
    "n_layers = 2\n",
    "clipEpsilon = 0.2"
   ]
  },
  {
   "cell_type": "code",
   "execution_count": 2,
   "id": "4c9ef870",
   "metadata": {
    "scrolled": true
   },
   "outputs": [],
   "source": [
    "class PendulumNN(nn.Module):\n",
    "    def __init__(self,input,output,activation=nn.Tanh):\n",
    "        super(PendulumNN,self).__init__()\n",
    "        self.conv1=nn.Conv2d(input,4,3)\n",
    "        self.conv2=nn.Conv2d(4,4,3)\n",
    "        self.conv3=nn.Conv2d(4,4,3)\n",
    "        self.fc1=nn.Linear(2304,1000)\n",
    "        self.fc2 = nn.Linear(1000,1)\n",
    "        self.act1 = activation\n",
    "        log_std = -0.5 * numpy.ones(output, dtype=numpy.float32)\n",
    "        self.log_std = torch.nn.Parameter(torch.as_tensor(log_std))\n",
    "\n",
    "    def forward(self,x):\n",
    "        x= F.relu(self.conv1(x))\n",
    "        x=F.relu(self.conv2(x))\n",
    "        x=F.relu(self.conv3(x))\n",
    "        x=torch.reshape(x,(x.shape[0],2304))\n",
    "        x= F.relu(self.fc1(x))\n",
    "        x= self.fc2(x)\n",
    "        vout = torch.exp(self.log_std)\n",
    "        return x, vout"
   ]
  },
  {
   "cell_type": "code",
   "execution_count": 3,
   "id": "adde3ea6",
   "metadata": {
    "scrolled": true
   },
   "outputs": [],
   "source": [
    "class PPOModels():\n",
    "    def __init__(self,learningRate1,learningRate2):\n",
    "        self.Actor = PendulumNN(2, 1)\n",
    "        self.Critic = PendulumNN(2,1)\n",
    "        self.optimActor = Adam(self.Actor.parameters(), lr=learningRate1)\n",
    "        self.optimCritic = Adam(self.Critic.parameters(), lr=learningRate2)\n",
    "\n",
    "    def saveModels(self):\n",
    "        torch.save(self.Actor.state_dict(),\"ActorModel.pt\")\n",
    "        torch.save(self.Critic.state_dict(),\"CriticModel.pt\")\n",
    "        torch.save(self.optimActor.state_dict(),\"optimActor.pt\")\n",
    "        torch.save(self.optimCritic.state_dict(),\"optimCritic.pt\")"
   ]
  },
  {
   "cell_type": "code",
   "execution_count": 4,
   "id": "9b79692a",
   "metadata": {
    "scrolled": true
   },
   "outputs": [],
   "source": [
    "def RewardsToGo(rewards,discountFactor):\n",
    "    if len(rewards) == 1:\n",
    "        return rewards\n",
    "    RewardNext = RewardsToGo(rewards[1:],discountFactor)\n",
    "    return [rewards[0]+(1-discountFactor)*RewardNext[0]]+RewardNext"
   ]
  },
  {
   "cell_type": "code",
   "execution_count": 5,
   "id": "a8fe3839",
   "metadata": {
    "scrolled": true
   },
   "outputs": [],
   "source": [
    "def DoRollout(Models,rollout_size,episode_size,yes):\n",
    "    obervations =[]\n",
    "    rewards = []\n",
    "    actions = []\n",
    "    logprobs = []\n",
    "    env=gym.make(\"Pendulum-v1-custom\")\n",
    "    for i in range(rollout_size):\n",
    "        episodeRewards = []\n",
    "        env.reset()\n",
    "        obs = []\n",
    "        transform = transforms.Compose([transforms.ToTensor(),transforms.Normalize((0.5,0.5,0.5), (0.5,0.5,0.5)),transforms.Grayscale()])\n",
    "        img = env.render(mode='rgb_array')\n",
    "        obs += (transform(img).tolist())\n",
    "        for j in range(1):\n",
    "            env.step([0])\n",
    "            img = env.render(mode='rgb_array')\n",
    "            obs += (transform(img).tolist())\n",
    "        for j in range(episode_size):\n",
    "            # if i == 0 and yes ==1:\n",
    "            #     env.render()\n",
    "            out_mean,out_variance   = Models.Actor(torch.tensor([obs]))\n",
    "            out_action_distribution = Normal(out_mean[0], out_variance)\n",
    "            action                  = out_action_distribution.sample()\n",
    "            obervations.append(obs)\n",
    "            _, reward, done, info = env.step(action.detach().tolist())\n",
    "            obs = obs[1:]\n",
    "            img =env.render(mode='rgb_array')\n",
    "            obs += (transform(img).tolist())\n",
    "            logprob = out_action_distribution.log_prob(action.detach())\n",
    "            episodeRewards.append(reward.tolist())\n",
    "            actions.append(action.numpy())\n",
    "            logprobs.append([logprob])\n",
    "        rewards.append(episodeRewards)\n",
    "    return torch.tensor(numpy.array(obervations)).float(),rewards,torch.tensor(numpy.array(actions)),torch.tensor(logprobs).squeeze()\n"
   ]
  },
  {
   "cell_type": "code",
   "execution_count": 6,
   "id": "eac02085",
   "metadata": {
    "scrolled": true
   },
   "outputs": [],
   "source": [
    "def getRatio(model,observations,actions,old_logprobs):\n",
    "    out_mean,out_variance = model.Actor(observations)\n",
    "    dist = Normal(out_mean, out_variance)\n",
    "    log_probs = dist.log_prob(actions).squeeze()\n",
    "    return torch.exp(log_probs-old_logprobs)"
   ]
  },
  {
   "cell_type": "code",
   "execution_count": 7,
   "id": "59f75c9d",
   "metadata": {
    "scrolled": true
   },
   "outputs": [],
   "source": [
    "def CalculateAdvantage(model,observations,RTG):\n",
    "    V = model.Critic(observations)[0].detach().squeeze()\n",
    "    Advantage = (torch.tensor(RTG)-V)\n",
    "    return Advantage\n",
    "\n",
    "def GeneralAdvantage(model,states,rewards,discountFactor):\n",
    "    if len(rewards)==1:\n",
    "        return torch.tensor(rewards[0])\n",
    "    delta = 1-discountFactor\n",
    "\n",
    "    Vt = model.Critic(torch.tensor([states[0].tolist()]))[0].detach().squeeze()\n",
    "    VT = torch.pow(torch.tensor(delta),len(states)-1)*model.Critic(torch.tensor([states[0].tolist()]))[0].detach().squeeze()\n",
    "    RTG = RewardsToGo(rewards[:len(states)-1],discountFactor)[0]\n",
    "    return -Vt+RTG+VT\n",
    "\n",
    "def CalculateGeneralAdvantage(model, obervations,rewards,discountFactor):\n",
    "    GeneralAdv =[]\n",
    "    for i in range(len(rewards)):\n",
    "        obs = obervations[i*len(rewards[0]):(i+1)*len(rewards[0])]\n",
    "        for j in range(len(rewards[0])):\n",
    "            GeneralAdv.append(GeneralAdvantage(model,obs[j:],rewards[i][j:],discountFactor))\n",
    "    return torch.tensor(GeneralAdv)"
   ]
  },
  {
   "cell_type": "code",
   "execution_count": 8,
   "id": "18e5683b",
   "metadata": {
    "scrolled": true
   },
   "outputs": [],
   "source": [
    "def PPO(AdvantageType,UsingClip,batchSize,model,rollout=10,episodes =200,clipEpsilon=0.2,df = 0.01):\n",
    "    batch_size = batchSize\n",
    "    rollout_size = rollout\n",
    "    episode_size= episodes\n",
    "    epsilon= clipEpsilon\n",
    "    discountFactor = df\n",
    "    policy = model\n",
    "    rtg_list = []\n",
    "    actorGrad_loss_list = []\n",
    "    criticGrad_loss_list = []\n",
    "    iter_count = 1\n",
    "    \n",
    "    for i in range(batch_size):\n",
    "        yes = 0\n",
    "        # if i%100 == 0:\n",
    "        #     yes = 1\n",
    "        observations,rewards,actions,logprobs = DoRollout(policy,rollout_size,episode_size,yes)\n",
    "        RTG = []\n",
    "        for j in range(rollout_size):\n",
    "            RTG+=RewardsToGo(rewards[j],discountFactor) \n",
    "        if AdvantageType==\"RTG\":\n",
    "            Advantage = CalculateAdvantage(policy,observations,RTG)\n",
    "        elif AdvantageType==\"GAE\":\n",
    "            Advantage = CalculateGeneralAdvantage(policy,observations,rewards,discountFactor)\n",
    "        else:\n",
    "            return \"ERROR NO ADV TYPE SPECIFIED\"\n",
    "        iter_count += 1\n",
    "        rtg_list.append(sum(RTG)/rollout_size)\n",
    "        if i%100 == 0:\n",
    "            print(i)\n",
    "            print(sum(RTG))\n",
    "        for j in range(5):\n",
    "            ratio = getRatio(policy,observations,actions,logprobs)\n",
    "            if UsingClip == 1:\n",
    "                reg =  Advantage*ratio\n",
    "                clip = torch.clip(ratio, 1 - epsilon, 1 + epsilon) * Advantage\n",
    "                actorGrad =(-torch.min(reg, clip)).mean()\n",
    "            else:\n",
    "                actorGrad = (-(Advantage*ratio)).mean()\n",
    "            policy.optimActor.zero_grad()\n",
    "            actorGrad.backward(retain_graph=True)\n",
    "            policy.optimActor.step()\n",
    "\n",
    "            V = policy.Critic(observations)[0].squeeze()\n",
    "            criticGrad = nn.MSELoss()(V, torch.tensor(RTG))\n",
    "            policy.optimCritic.zero_grad()\n",
    "            criticGrad.backward()\n",
    "            policy.optimCritic.step()\n",
    "            \n",
    "            if j ==4:\n",
    "                actorGrad_loss_list.append(actorGrad.item())\n",
    "                criticGrad_loss_list.append(criticGrad.item())\n",
    "        policy.saveModels() \n",
    "\n",
    "    policy.saveModels()\n",
    "    print(\"Saved!\")\n",
    "    return policy, rtg_list, actorGrad_loss_list, criticGrad_loss_list, rewards\n"
   ]
  },
  {
   "cell_type": "code",
   "execution_count": 9,
   "id": "e622675b",
   "metadata": {
    "scrolled": true
   },
   "outputs": [],
   "source": [
    "def TryModel(model):\n",
    "    env=gym.make(\"Pendulum-v1-custom\")\n",
    "    obs = env.reset()\n",
    "    thetaLst = [np.arccos(obs[0])]\n",
    "    thetaDotLst = [obs[2]]\n",
    "    imgs = []\n",
    "    transform = transforms.Compose([transforms.ToTensor(),transforms.Normalize((0.5,0.5,0.5), (0.5,0.5,0.5)),transforms.Grayscale()])\n",
    "    img = env.render(mode='rgb_array')\n",
    "    imgs += (transform(img).tolist())\n",
    "    for i in range(1):\n",
    "        env.step([0])\n",
    "        img = env.render(mode='rgb_array')\n",
    "        imgs += (transform(img).tolist())\n",
    "    for i in range(200):\n",
    "        action,_   = model.Actor(torch.tensor([imgs]))\n",
    "        x = action.detach().tolist()\n",
    "        obs, reward, done, info = env.step(x[0])\n",
    "        imgs = imgs[1:]\n",
    "        img =env.render(mode='rgb_array')\n",
    "        imgs += (transform(img).tolist())\n",
    "        thetaLst.append(np.arccos(obs[0]))\n",
    "        thetaDotLst.append(obs[2])\n",
    "    return thetaLst, thetaDotLst"
   ]
  },
  {
   "cell_type": "code",
   "execution_count": 10,
   "id": "ca5bab2a",
   "metadata": {
    "scrolled": true
   },
   "outputs": [],
   "source": [
    "def Environment(AdvantageType,Clip,batch_size,Rollout=10,episodes =200,clipEpsilon=0.2,df = 0.01,lr1=1e-2,lr2=1e-2):\n",
    "    Model = PPOModels(lr1,lr2)\n",
    "    return PPO(AdvantageType,Clip,batch_size,Model,Rollout,episodes,clipEpsilon,df)"
   ]
  },
  {
   "cell_type": "code",
   "execution_count": 11,
   "id": "54e7adee",
   "metadata": {},
   "outputs": [],
   "source": [
    "def SeeForMyself(model):\n",
    "    env=gym.make(\"Pendulum-v1-custom\")\n",
    "    obs = env.reset()\n",
    "    imgs = []\n",
    "    transform = transforms.Compose([transforms.ToTensor(),transforms.Normalize((0.5,0.5,0.5), (0.5,0.5,0.5)),transforms.Grayscale()])\n",
    "    img = env.render(mode='rgb_array')\n",
    "    imgs += (transform(img).tolist())\n",
    "    for i in range(1):\n",
    "        env.step([0])\n",
    "        img = env.render(mode='rgb_array')\n",
    "        imgs += (transform(img).tolist())\n",
    "    for i in range(200):\n",
    "        env.render()\n",
    "        action,_   = model.Actor(torch.tensor([imgs]))\n",
    "        env.step(action.detach().tolist()[0])\n",
    "        imgs = imgs[1:]\n",
    "        img =env.render(mode='rgb_array')\n",
    "        imgs += (transform(img).tolist())\n",
    "    return"
   ]
  },
  {
   "cell_type": "markdown",
   "id": "570b7538",
   "metadata": {},
   "source": [
    "# Extension3:\n",
    "Use images instead of state vectors. Note that since you won't have \n",
    "access to velocity, you will need either to stack a few last images or to use a recurrent policy."
   ]
  },
  {
   "cell_type": "markdown",
   "id": "2e8275c4",
   "metadata": {},
   "source": [
    "Clip 0.2, GAE, 4000 iterations, 10 rollout, 200 trajectoy length, discount factor 0.01, lr 0.00005, kernel size 3"
   ]
  },
  {
   "cell_type": "code",
   "execution_count": 12,
   "id": "deb7dd58",
   "metadata": {},
   "outputs": [
    {
     "name": "stdout",
     "output_type": "stream",
     "text": [
      "0\n",
      "-692683.724745721\n",
      "100\n",
      "-806215.073395129\n",
      "200\n",
      "-794089.9829791443\n",
      "300\n",
      "-796716.9390136006\n",
      "400\n",
      "-748801.0563320814\n",
      "500\n",
      "-677753.8030617471\n",
      "600\n",
      "-738932.6901037152\n",
      "700\n",
      "-765741.6628384241\n",
      "800\n",
      "-672685.4672420125\n",
      "900\n",
      "-656737.7493056633\n",
      "1000\n",
      "-679377.708410598\n",
      "1100\n",
      "-675049.1805624272\n",
      "1200\n",
      "-703329.8963043344\n",
      "1300\n",
      "-719831.3105443299\n",
      "1400\n",
      "-651227.6312655422\n",
      "1500\n",
      "-617630.9967596418\n",
      "1600\n",
      "-615979.2851392945\n",
      "1700\n",
      "-577255.9477188481\n",
      "1800\n",
      "-539442.5566774867\n",
      "1900\n",
      "-565290.969057956\n",
      "2000\n",
      "-553522.2223275199\n",
      "2100\n",
      "-484308.19835149567\n",
      "2200\n",
      "-516802.6887721205\n",
      "2300\n",
      "-485349.5683618836\n",
      "2400\n",
      "-493625.6766187288\n",
      "2500\n",
      "-506945.41230038705\n",
      "2600\n",
      "-448953.45659918524\n",
      "2700\n",
      "-469557.2936731829\n",
      "2800\n",
      "-503266.40380929195\n",
      "2900\n",
      "-470245.1754867986\n",
      "3000\n",
      "-442924.71058422176\n",
      "3100\n",
      "-435677.5982764566\n",
      "3200\n",
      "-445856.5337984367\n",
      "3300\n",
      "-421617.500528312\n",
      "3400\n",
      "-431733.312972906\n",
      "3500\n",
      "-384338.37801206426\n",
      "3600\n",
      "-349924.76434272935\n",
      "3700\n",
      "-309429.45131931663\n",
      "3800\n",
      "-322682.2205687366\n",
      "3900\n",
      "-165643.86589111274\n",
      "Saved!\n"
     ]
    }
   ],
   "source": [
    "model, rtg_list, actorGrad_loss_list, criticGrad_loss_list, rewards = Environment(\"GAE\",1,4000,10,200,0.2,0.01,0.00005,0.00005)\n"
   ]
  },
  {
   "cell_type": "code",
   "execution_count": 13,
   "id": "214dd7bf",
   "metadata": {},
   "outputs": [
    {
     "data": {
      "image/png": "[encoded data removed]",
      "text/plain": [
       "<Figure size 432x288 with 1 Axes>"
      ]
     },
     "metadata": {
      "needs_background": "light"
     },
     "output_type": "display_data"
    },
    {
     "data": {
      "image/png": "[encoded data removed]",
      "text/plain": [
       "<Figure size 432x288 with 1 Axes>"
      ]
     },
     "metadata": {
      "needs_background": "light"
     },
     "output_type": "display_data"
    },
    {
     "data": {
      "image/png": "[encoded data removed]",
      "text/plain": [
       "<Figure size 432x288 with 1 Axes>"
      ]
     },
     "metadata": {
      "needs_background": "light"
     },
     "output_type": "display_data"
    }
   ],
   "source": [
    "# plot rtg_list\n",
    "plt.plot(rtg_list)\n",
    "plt.title(\"PPO (clipping, GAE)\")\n",
    "plt.xlabel(\"iteration\")\n",
    "plt.ylabel(\"Expected Acculumated Reward\")\n",
    "plt.show()\n",
    "# plot actorGrad_loss_list\n",
    "plt.plot(actorGrad_loss_list)\n",
    "plt.title(\"Actor Loss\")\n",
    "plt.xlabel(\"iteration\")\n",
    "plt.ylabel(\"Actor Loss\")\n",
    "plt.show()\n",
    "# plot criticGrad_loss_list\n",
    "plt.plot(criticGrad_loss_list)\n",
    "plt.title(\"Critic Loss\")\n",
    "plt.xlabel(\"iteration\")\n",
    "plt.ylabel(\"Critic Loss\")\n",
    "plt.show()"
   ]
  },
  {
   "cell_type": "code",
   "execution_count": 14,
   "id": "bb4a4a58",
   "metadata": {},
   "outputs": [
    {
     "data": {
      "image/png": "[encoded data removed]",
      "text/plain": [
       "<Figure size 432x288 with 1 Axes>"
      ]
     },
     "metadata": {
      "needs_background": "light"
     },
     "output_type": "display_data"
    }
   ],
   "source": [
    "plts = TryModel(model)\n",
    "plt.title(\"Theta vs Time\")\n",
    "plt.plot(plts[0])\n",
    "plt.show()"
   ]
  },
  {
   "cell_type": "code",
   "execution_count": 17,
   "id": "c6ac06d6",
   "metadata": {},
   "outputs": [
    {
     "data": {
      "image/png": "[encoded data removed]",
      "text/plain": [
       "<Figure size 432x288 with 1 Axes>"
      ]
     },
     "metadata": {
      "needs_background": "light"
     },
     "output_type": "display_data"
    }
   ],
   "source": [
    "plt.title(\"ThetaDot vs Time\")\n",
    "plt.plot(plts[1])\n",
    "plt.show()"
   ]
  },
  {
   "cell_type": "markdown",
   "id": "a343195e",
   "metadata": {},
   "source": [
    "# Discussion\n",
    "In this extension, we attempted to train a policy for a swinging pendullum task using images. To do this, we had to stack multiple images per state to replace velocity. We also created our neural network using CNN\n",
    "\n",
    "## The coding/optimization process\n",
    "1) Stack size of the images: At first, the stack size of 5 was chosen; however, it was clearly shown that the model had hard time learning as well as the computation taking much,much longer. Rather, having the stack size of 2 was found to be the most optimal as there was less to \"learn\" due to having less images to learn from\n",
    "2) Image size: Instead of having the default image size of 500x500, we trimmed down to 30x30. We chose this size as we wanted to balance between the images being too big (computationally expensive and will need to filter more) and being too small (we want to clearly spot the change in angles between current state and past state). We found 30x30 to be the sweet spot.\n",
    "3) *Essential* Kernel size: Kernel size was found to be essential. We first used the kernel size of 2x2, but it was found having difficulty distinguishing the features of the different images. After using the kernel size of 3x3, the performance significantly increased.\n",
    "4) *Essentail* CNN output size: The output size of the CNN must be big enough to process the two distinct images separatly to be able to learn that comparing the two images will extract the velocity needed to solve the problem. Having the output size of 2 was found to be too small and needed output size of 4 to learn properly\n",
    "5) Epoch size: We found that a deep epoche size was not necessary in optimization. Instead, we chose to reduce the epoch size from 30 to 5 to save on computation.\n",
    "\n",
    "## General Analysis:\n",
    "From our experiment, our model was able to successfully balance a pendulum. However, a little more than 4k iterations is needed to truly learn optimally. The model took much longer to train (12 hours) compared to HW3. A lot more iteration was needed to train too. "
   ]
  },
  {
   "cell_type": "markdown",
   "id": "95d3818b",
   "metadata": {},
   "source": []
  }
 ],
 "metadata": {
  "kernelspec": {
   "display_name": "Python 3 (ipykernel)",
   "language": "python",
   "name": "python3"
  },
  "language_info": {
   "codemirror_mode": {
    "name": "ipython",
    "version": 3
   },
   "file_extension": ".py",
   "mimetype": "text/x-python",
   "name": "python",
   "nbconvert_exporter": "python",
   "pygments_lexer": "ipython3",
   "version": "3.10.6"
  },
  "vscode": {
   "interpreter": {
    "hash": "b0fa6594d8f4cbf19f97940f81e996739fb7646882a419484c72d19e05852a7e"
   }
  }
 },
 "nbformat": 4,
 "nbformat_minor": 5
}
